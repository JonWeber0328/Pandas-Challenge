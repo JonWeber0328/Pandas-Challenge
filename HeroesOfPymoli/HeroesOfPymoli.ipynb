{
 "cells": [
  {
   "cell_type": "code",
   "execution_count": 1,
   "metadata": {},
   "outputs": [],
   "source": [
    "# Dependencies and Setup\n",
    "import pandas as pd\n",
    "\n",
    "# File to Load\n",
    "file_to_load = \"Resources/purchase_data.csv\"\n",
    "\n",
    "# Read Purchasing File and store into Pandas data frame\n",
    "purchase_data = pd.read_csv(file_to_load)\n",
    "\n",
    "#print(purchase_data)"
   ]
  },
  {
   "cell_type": "code",
   "execution_count": 2,
   "metadata": {},
   "outputs": [
    {
     "data": {
      "text/html": [
       "<style  type=\"text/css\" >\n",
       "    #T_e4150d06_6252_11eb_9a54_34c93da00cacrow0_col0 {\n",
       "            text-align:  left;\n",
       "        }</style><table id=\"T_e4150d06_6252_11eb_9a54_34c93da00cac\" ><thead>    <tr>        <th class=\"blank level0\" ></th>        <th class=\"col_heading level0 col0\" >Total Players</th>    </tr></thead><tbody>\n",
       "                <tr>\n",
       "                        <th id=\"T_e4150d06_6252_11eb_9a54_34c93da00caclevel0_row0\" class=\"row_heading level0 row0\" >0</th>\n",
       "                        <td id=\"T_e4150d06_6252_11eb_9a54_34c93da00cacrow0_col0\" class=\"data row0 col0\" >576</td>\n",
       "            </tr>\n",
       "    </tbody></table>"
      ],
      "text/plain": [
       "<pandas.io.formats.style.Styler at 0x1dd17833e48>"
      ]
     },
     "execution_count": 2,
     "metadata": {},
     "output_type": "execute_result"
    }
   ],
   "source": [
    "# Player Count\n",
    "# Calculate the total number of unique players in \"SN\" column\n",
    "player_df = purchase_data[\"SN\"].value_counts()\n",
    "player_df.count()\n",
    "count = player_df.count()\n",
    "\n",
    "# Display the total number of players\n",
    "total_players_df = pd.DataFrame({\"Total Players\": [count]})\n",
    "total_players_df.style.set_properties(**{'text-align': 'left'})"
   ]
  },
  {
   "cell_type": "code",
   "execution_count": 3,
   "metadata": {},
   "outputs": [
    {
     "data": {
      "text/html": [
       "<style  type=\"text/css\" >\n",
       "    #T_e4196b08_6252_11eb_b0ec_34c93da00cacrow0_col0 {\n",
       "            text-align:  left;\n",
       "        }    #T_e4196b08_6252_11eb_b0ec_34c93da00cacrow0_col1 {\n",
       "            text-align:  left;\n",
       "        }    #T_e4196b08_6252_11eb_b0ec_34c93da00cacrow0_col2 {\n",
       "            text-align:  left;\n",
       "        }    #T_e4196b08_6252_11eb_b0ec_34c93da00cacrow0_col3 {\n",
       "            text-align:  left;\n",
       "        }</style><table id=\"T_e4196b08_6252_11eb_b0ec_34c93da00cac\" ><thead>    <tr>        <th class=\"blank level0\" ></th>        <th class=\"col_heading level0 col0\" >Number of Unique Items</th>        <th class=\"col_heading level0 col1\" >Average Price</th>        <th class=\"col_heading level0 col2\" >Number of Purchases</th>        <th class=\"col_heading level0 col3\" >Total Revenue</th>    </tr></thead><tbody>\n",
       "                <tr>\n",
       "                        <th id=\"T_e4196b08_6252_11eb_b0ec_34c93da00caclevel0_row0\" class=\"row_heading level0 row0\" >0</th>\n",
       "                        <td id=\"T_e4196b08_6252_11eb_b0ec_34c93da00cacrow0_col0\" class=\"data row0 col0\" >179</td>\n",
       "                        <td id=\"T_e4196b08_6252_11eb_b0ec_34c93da00cacrow0_col1\" class=\"data row0 col1\" >$3.05</td>\n",
       "                        <td id=\"T_e4196b08_6252_11eb_b0ec_34c93da00cacrow0_col2\" class=\"data row0 col2\" >780</td>\n",
       "                        <td id=\"T_e4196b08_6252_11eb_b0ec_34c93da00cacrow0_col3\" class=\"data row0 col3\" >$2379.77</td>\n",
       "            </tr>\n",
       "    </tbody></table>"
      ],
      "text/plain": [
       "<pandas.io.formats.style.Styler at 0x1dd18910a58>"
      ]
     },
     "execution_count": 3,
     "metadata": {},
     "output_type": "execute_result"
    }
   ],
   "source": [
    "# Purchasing Analysis (Total)\n",
    "# Find the number of unique items\n",
    "item_df = purchase_data[\"Item ID\"].value_counts()\n",
    "item_df.count()\n",
    "item = item_df.count()\n",
    "\n",
    "# Find the average price\n",
    "average = purchase_data[\"Price\"].mean()\n",
    "average\n",
    "\n",
    "# Find the number of purchases\n",
    "purchases = purchase_data[\"Purchase ID\"].count()\n",
    "purchases\n",
    "\n",
    "# Find the total revenue\n",
    "revenue = purchase_data[\"Price\"].sum()\n",
    "revenue\n",
    "\n",
    "# Create the summary table\n",
    "summary_df = pd.DataFrame({\"Number of Unique Items\": [item], \"Average Price\": [average], \"Number of Purchases\": [purchases],\n",
    "                           \"Total Revenue\": [revenue]})\n",
    "\n",
    "# Format and display the summary table\n",
    "summary_df[\"Average Price\"] = summary_df[\"Average Price\"].astype(float).map(\"${:.2f}\".format)\n",
    "summary_df[\"Total Revenue\"] = summary_df[\"Total Revenue\"].astype(float).map(\"${:.2f}\".format)\n",
    "summary_df.style.set_properties(**{'text-align': 'left'})"
   ]
  },
  {
   "cell_type": "code",
   "execution_count": 4,
   "metadata": {},
   "outputs": [
    {
     "data": {
      "text/html": [
       "<style  type=\"text/css\" >\n",
       "    #T_e41df9d8_6252_11eb_bbe3_34c93da00cacrow0_col0 {\n",
       "            text-align:  left;\n",
       "        }    #T_e41df9d8_6252_11eb_bbe3_34c93da00cacrow0_col1 {\n",
       "            text-align:  left;\n",
       "        }    #T_e41df9d8_6252_11eb_bbe3_34c93da00cacrow1_col0 {\n",
       "            text-align:  left;\n",
       "        }    #T_e41df9d8_6252_11eb_bbe3_34c93da00cacrow1_col1 {\n",
       "            text-align:  left;\n",
       "        }    #T_e41df9d8_6252_11eb_bbe3_34c93da00cacrow2_col0 {\n",
       "            text-align:  left;\n",
       "        }    #T_e41df9d8_6252_11eb_bbe3_34c93da00cacrow2_col1 {\n",
       "            text-align:  left;\n",
       "        }</style><table id=\"T_e41df9d8_6252_11eb_bbe3_34c93da00cac\" ><thead>    <tr>        <th class=\"blank level0\" ></th>        <th class=\"col_heading level0 col0\" >Total Count</th>        <th class=\"col_heading level0 col1\" >Percentage of Players</th>    </tr></thead><tbody>\n",
       "                <tr>\n",
       "                        <th id=\"T_e41df9d8_6252_11eb_bbe3_34c93da00caclevel0_row0\" class=\"row_heading level0 row0\" >Male</th>\n",
       "                        <td id=\"T_e41df9d8_6252_11eb_bbe3_34c93da00cacrow0_col0\" class=\"data row0 col0\" >484</td>\n",
       "                        <td id=\"T_e41df9d8_6252_11eb_bbe3_34c93da00cacrow0_col1\" class=\"data row0 col1\" >84.03%</td>\n",
       "            </tr>\n",
       "            <tr>\n",
       "                        <th id=\"T_e41df9d8_6252_11eb_bbe3_34c93da00caclevel0_row1\" class=\"row_heading level0 row1\" >Female</th>\n",
       "                        <td id=\"T_e41df9d8_6252_11eb_bbe3_34c93da00cacrow1_col0\" class=\"data row1 col0\" >81</td>\n",
       "                        <td id=\"T_e41df9d8_6252_11eb_bbe3_34c93da00cacrow1_col1\" class=\"data row1 col1\" >14.06%</td>\n",
       "            </tr>\n",
       "            <tr>\n",
       "                        <th id=\"T_e41df9d8_6252_11eb_bbe3_34c93da00caclevel0_row2\" class=\"row_heading level0 row2\" >Other / Non-Disclosed</th>\n",
       "                        <td id=\"T_e41df9d8_6252_11eb_bbe3_34c93da00cacrow2_col0\" class=\"data row2 col0\" >11</td>\n",
       "                        <td id=\"T_e41df9d8_6252_11eb_bbe3_34c93da00cacrow2_col1\" class=\"data row2 col1\" >1.91%</td>\n",
       "            </tr>\n",
       "    </tbody></table>"
      ],
      "text/plain": [
       "<pandas.io.formats.style.Styler at 0x1dd15747a58>"
      ]
     },
     "execution_count": 4,
     "metadata": {},
     "output_type": "execute_result"
    }
   ],
   "source": [
    "# Gender Demographics\n",
    "# Create new dataframe with reduced columns\n",
    "reduced_purchase_df = purchase_data.loc[:, [\"SN\", \"Gender\"]]\n",
    "reduced_purchase_df\n",
    "\n",
    "# Drop duplicate \"SN\" rows\n",
    "reduced_purchase_df = reduced_purchase_df.drop_duplicates(subset=['SN'])\n",
    "reduced_purchase_df\n",
    "\n",
    "# Count number of players by gender\n",
    "gender_total = reduced_purchase_df[\"Gender\"].value_counts()\n",
    "gender_total\n",
    "\n",
    "# Calculate the percentage for each gender\n",
    "gender_percent = gender_total / count * 100\n",
    "gender_percent\n",
    "\n",
    "# Create the summary table\n",
    "gender_summary = pd.DataFrame({\"Total Count\" : gender_total, \"Percentage of Players\": gender_percent})\n",
    "gender_summary\n",
    "\n",
    "# Format and display the summary table\n",
    "gender_summary[\"Percentage of Players\"] = gender_summary[\"Percentage of Players\"].astype(float).map(\"{0:.2f}%\".format)\n",
    "gender_summary.style.set_properties(**{'text-align': 'left'})"
   ]
  },
  {
   "cell_type": "code",
   "execution_count": 5,
   "metadata": {},
   "outputs": [
    {
     "data": {
      "text/html": [
       "<style  type=\"text/css\" >\n",
       "    #T_e421efe2_6252_11eb_a26d_34c93da00cacrow0_col0 {\n",
       "            text-align:  left;\n",
       "        }    #T_e421efe2_6252_11eb_a26d_34c93da00cacrow0_col1 {\n",
       "            text-align:  left;\n",
       "        }    #T_e421efe2_6252_11eb_a26d_34c93da00cacrow0_col2 {\n",
       "            text-align:  left;\n",
       "        }    #T_e421efe2_6252_11eb_a26d_34c93da00cacrow0_col3 {\n",
       "            text-align:  left;\n",
       "        }    #T_e421efe2_6252_11eb_a26d_34c93da00cacrow1_col0 {\n",
       "            text-align:  left;\n",
       "        }    #T_e421efe2_6252_11eb_a26d_34c93da00cacrow1_col1 {\n",
       "            text-align:  left;\n",
       "        }    #T_e421efe2_6252_11eb_a26d_34c93da00cacrow1_col2 {\n",
       "            text-align:  left;\n",
       "        }    #T_e421efe2_6252_11eb_a26d_34c93da00cacrow1_col3 {\n",
       "            text-align:  left;\n",
       "        }    #T_e421efe2_6252_11eb_a26d_34c93da00cacrow2_col0 {\n",
       "            text-align:  left;\n",
       "        }    #T_e421efe2_6252_11eb_a26d_34c93da00cacrow2_col1 {\n",
       "            text-align:  left;\n",
       "        }    #T_e421efe2_6252_11eb_a26d_34c93da00cacrow2_col2 {\n",
       "            text-align:  left;\n",
       "        }    #T_e421efe2_6252_11eb_a26d_34c93da00cacrow2_col3 {\n",
       "            text-align:  left;\n",
       "        }</style><table id=\"T_e421efe2_6252_11eb_a26d_34c93da00cac\" ><thead>    <tr>        <th class=\"blank level0\" ></th>        <th class=\"col_heading level0 col0\" >Purchase Count</th>        <th class=\"col_heading level0 col1\" >Average Purchase Price</th>        <th class=\"col_heading level0 col2\" >Total Purchase Value</th>        <th class=\"col_heading level0 col3\" >Avg Total Purchase per Person</th>    </tr></thead><tbody>\n",
       "                <tr>\n",
       "                        <th id=\"T_e421efe2_6252_11eb_a26d_34c93da00caclevel0_row0\" class=\"row_heading level0 row0\" >Female</th>\n",
       "                        <td id=\"T_e421efe2_6252_11eb_a26d_34c93da00cacrow0_col0\" class=\"data row0 col0\" >113</td>\n",
       "                        <td id=\"T_e421efe2_6252_11eb_a26d_34c93da00cacrow0_col1\" class=\"data row0 col1\" >$3.20</td>\n",
       "                        <td id=\"T_e421efe2_6252_11eb_a26d_34c93da00cacrow0_col2\" class=\"data row0 col2\" >$361.94</td>\n",
       "                        <td id=\"T_e421efe2_6252_11eb_a26d_34c93da00cacrow0_col3\" class=\"data row0 col3\" >$4.47</td>\n",
       "            </tr>\n",
       "            <tr>\n",
       "                        <th id=\"T_e421efe2_6252_11eb_a26d_34c93da00caclevel0_row1\" class=\"row_heading level0 row1\" >Male</th>\n",
       "                        <td id=\"T_e421efe2_6252_11eb_a26d_34c93da00cacrow1_col0\" class=\"data row1 col0\" >652</td>\n",
       "                        <td id=\"T_e421efe2_6252_11eb_a26d_34c93da00cacrow1_col1\" class=\"data row1 col1\" >$3.02</td>\n",
       "                        <td id=\"T_e421efe2_6252_11eb_a26d_34c93da00cacrow1_col2\" class=\"data row1 col2\" >$1,967.64</td>\n",
       "                        <td id=\"T_e421efe2_6252_11eb_a26d_34c93da00cacrow1_col3\" class=\"data row1 col3\" >$4.07</td>\n",
       "            </tr>\n",
       "            <tr>\n",
       "                        <th id=\"T_e421efe2_6252_11eb_a26d_34c93da00caclevel0_row2\" class=\"row_heading level0 row2\" >Other / Non-Disclosed</th>\n",
       "                        <td id=\"T_e421efe2_6252_11eb_a26d_34c93da00cacrow2_col0\" class=\"data row2 col0\" >15</td>\n",
       "                        <td id=\"T_e421efe2_6252_11eb_a26d_34c93da00cacrow2_col1\" class=\"data row2 col1\" >$3.35</td>\n",
       "                        <td id=\"T_e421efe2_6252_11eb_a26d_34c93da00cacrow2_col2\" class=\"data row2 col2\" >$50.19</td>\n",
       "                        <td id=\"T_e421efe2_6252_11eb_a26d_34c93da00cacrow2_col3\" class=\"data row2 col3\" >$4.56</td>\n",
       "            </tr>\n",
       "    </tbody></table>"
      ],
      "text/plain": [
       "<pandas.io.formats.style.Styler at 0x1dd1896df60>"
      ]
     },
     "execution_count": 5,
     "metadata": {},
     "output_type": "execute_result"
    }
   ],
   "source": [
    "# Purchasing Analysis (Gender)\n",
    "# Purchase count\n",
    "purchase_df = purchase_data.loc[:, [\"Gender\", \"Price\"]]\n",
    "purchase_df\n",
    "\n",
    "gen_pur_count = purchase_df[\"Gender\"].value_counts()\n",
    "gen_pur_count\n",
    "\n",
    "# Average purchase price\n",
    "gen_amt_sum = purchase_df.groupby([\"Gender\"])\n",
    "gen_amt_sum = gen_amt_sum[\"Price\"].sum()\n",
    "gen_amt_sum\n",
    "\n",
    "avg_pur = gen_amt_sum / gen_pur_count\n",
    "avg_pur\n",
    "\n",
    "# Total purchase value\n",
    "gen_amt_sum\n",
    "\n",
    "# Average total purchase per person\n",
    "avg_person_pur = gen_amt_sum / gender_total\n",
    "avg_person_pur\n",
    "\n",
    "# Create the summary table\n",
    "purchasing_summary = pd.DataFrame({\"Purchase Count\" : gen_pur_count, \"Average Purchase Price\": avg_pur, \n",
    "                                   \"Total Purchase Value\": gen_amt_sum, \"Avg Total Purchase per Person\": avg_person_pur})\n",
    "purchasing_summary\n",
    "\n",
    "# Format and display the summary table\n",
    "purchasing_summary[\"Average Purchase Price\"] = purchasing_summary[\"Average Purchase Price\"].astype(float).map(\"${:.2f}\".format)\n",
    "purchasing_summary[\"Total Purchase Value\"] = purchasing_summary[\"Total Purchase Value\"].astype(float).map(\"${:,.2f}\".format)\n",
    "purchasing_summary[\"Avg Total Purchase per Person\"] = purchasing_summary[\"Avg Total Purchase per Person\"].astype(float).map(\"${:.2f}\".format)\n",
    "purchasing_summary.style.set_properties(**{'text-align': 'left'})"
   ]
  },
  {
   "cell_type": "code",
   "execution_count": 6,
   "metadata": {},
   "outputs": [
    {
     "data": {
      "text/html": [
       "<div>\n",
       "<style scoped>\n",
       "    .dataframe tbody tr th:only-of-type {\n",
       "        vertical-align: middle;\n",
       "    }\n",
       "\n",
       "    .dataframe tbody tr th {\n",
       "        vertical-align: top;\n",
       "    }\n",
       "\n",
       "    .dataframe thead th {\n",
       "        text-align: right;\n",
       "    }\n",
       "</style>\n",
       "<table border=\"1\" class=\"dataframe\">\n",
       "  <thead>\n",
       "    <tr style=\"text-align: right;\">\n",
       "      <th></th>\n",
       "      <th>Purchase ID</th>\n",
       "      <th>SN</th>\n",
       "      <th>Age</th>\n",
       "      <th>Gender</th>\n",
       "      <th>Item ID</th>\n",
       "      <th>Item Name</th>\n",
       "      <th>Price</th>\n",
       "    </tr>\n",
       "  </thead>\n",
       "  <tbody>\n",
       "    <tr>\n",
       "      <th>0</th>\n",
       "      <td>0</td>\n",
       "      <td>Lisim78</td>\n",
       "      <td>20</td>\n",
       "      <td>Male</td>\n",
       "      <td>108</td>\n",
       "      <td>Extraction, Quickblade Of Trembling Hands</td>\n",
       "      <td>3.53</td>\n",
       "    </tr>\n",
       "    <tr>\n",
       "      <th>1</th>\n",
       "      <td>1</td>\n",
       "      <td>Lisovynya38</td>\n",
       "      <td>40</td>\n",
       "      <td>Male</td>\n",
       "      <td>143</td>\n",
       "      <td>Frenzied Scimitar</td>\n",
       "      <td>1.56</td>\n",
       "    </tr>\n",
       "    <tr>\n",
       "      <th>2</th>\n",
       "      <td>2</td>\n",
       "      <td>Ithergue48</td>\n",
       "      <td>24</td>\n",
       "      <td>Male</td>\n",
       "      <td>92</td>\n",
       "      <td>Final Critic</td>\n",
       "      <td>4.88</td>\n",
       "    </tr>\n",
       "    <tr>\n",
       "      <th>3</th>\n",
       "      <td>3</td>\n",
       "      <td>Chamassasya86</td>\n",
       "      <td>24</td>\n",
       "      <td>Male</td>\n",
       "      <td>100</td>\n",
       "      <td>Blindscythe</td>\n",
       "      <td>3.27</td>\n",
       "    </tr>\n",
       "    <tr>\n",
       "      <th>4</th>\n",
       "      <td>4</td>\n",
       "      <td>Iskosia90</td>\n",
       "      <td>23</td>\n",
       "      <td>Male</td>\n",
       "      <td>131</td>\n",
       "      <td>Fury</td>\n",
       "      <td>1.44</td>\n",
       "    </tr>\n",
       "  </tbody>\n",
       "</table>\n",
       "</div>"
      ],
      "text/plain": [
       "   Purchase ID             SN  Age Gender  Item ID  \\\n",
       "0            0        Lisim78   20   Male      108   \n",
       "1            1    Lisovynya38   40   Male      143   \n",
       "2            2     Ithergue48   24   Male       92   \n",
       "3            3  Chamassasya86   24   Male      100   \n",
       "4            4      Iskosia90   23   Male      131   \n",
       "\n",
       "                                   Item Name  Price  \n",
       "0  Extraction, Quickblade Of Trembling Hands   3.53  \n",
       "1                          Frenzied Scimitar   1.56  \n",
       "2                               Final Critic   4.88  \n",
       "3                                Blindscythe   3.27  \n",
       "4                                       Fury   1.44  "
      ]
     },
     "execution_count": 6,
     "metadata": {},
     "output_type": "execute_result"
    }
   ],
   "source": [
    "purchase_data.head()"
   ]
  },
  {
   "cell_type": "code",
   "execution_count": 7,
   "metadata": {},
   "outputs": [
    {
     "data": {
      "text/html": [
       "<div>\n",
       "<style scoped>\n",
       "    .dataframe tbody tr th:only-of-type {\n",
       "        vertical-align: middle;\n",
       "    }\n",
       "\n",
       "    .dataframe tbody tr th {\n",
       "        vertical-align: top;\n",
       "    }\n",
       "\n",
       "    .dataframe thead th {\n",
       "        text-align: right;\n",
       "    }\n",
       "</style>\n",
       "<table border=\"1\" class=\"dataframe\">\n",
       "  <thead>\n",
       "    <tr style=\"text-align: right;\">\n",
       "      <th></th>\n",
       "      <th>SN</th>\n",
       "      <th>Age</th>\n",
       "    </tr>\n",
       "  </thead>\n",
       "  <tbody>\n",
       "    <tr>\n",
       "      <th>0</th>\n",
       "      <td>Lisim78</td>\n",
       "      <td>20</td>\n",
       "    </tr>\n",
       "    <tr>\n",
       "      <th>1</th>\n",
       "      <td>Lisovynya38</td>\n",
       "      <td>40</td>\n",
       "    </tr>\n",
       "    <tr>\n",
       "      <th>2</th>\n",
       "      <td>Ithergue48</td>\n",
       "      <td>24</td>\n",
       "    </tr>\n",
       "    <tr>\n",
       "      <th>3</th>\n",
       "      <td>Chamassasya86</td>\n",
       "      <td>24</td>\n",
       "    </tr>\n",
       "    <tr>\n",
       "      <th>4</th>\n",
       "      <td>Iskosia90</td>\n",
       "      <td>23</td>\n",
       "    </tr>\n",
       "    <tr>\n",
       "      <th>...</th>\n",
       "      <td>...</td>\n",
       "      <td>...</td>\n",
       "    </tr>\n",
       "    <tr>\n",
       "      <th>773</th>\n",
       "      <td>Hala31</td>\n",
       "      <td>21</td>\n",
       "    </tr>\n",
       "    <tr>\n",
       "      <th>774</th>\n",
       "      <td>Jiskjask80</td>\n",
       "      <td>11</td>\n",
       "    </tr>\n",
       "    <tr>\n",
       "      <th>775</th>\n",
       "      <td>Aethedru70</td>\n",
       "      <td>21</td>\n",
       "    </tr>\n",
       "    <tr>\n",
       "      <th>777</th>\n",
       "      <td>Yathecal72</td>\n",
       "      <td>20</td>\n",
       "    </tr>\n",
       "    <tr>\n",
       "      <th>778</th>\n",
       "      <td>Sisur91</td>\n",
       "      <td>7</td>\n",
       "    </tr>\n",
       "  </tbody>\n",
       "</table>\n",
       "<p>576 rows × 2 columns</p>\n",
       "</div>"
      ],
      "text/plain": [
       "                SN  Age\n",
       "0          Lisim78   20\n",
       "1      Lisovynya38   40\n",
       "2       Ithergue48   24\n",
       "3    Chamassasya86   24\n",
       "4        Iskosia90   23\n",
       "..             ...  ...\n",
       "773         Hala31   21\n",
       "774     Jiskjask80   11\n",
       "775     Aethedru70   21\n",
       "777     Yathecal72   20\n",
       "778        Sisur91    7\n",
       "\n",
       "[576 rows x 2 columns]"
      ]
     },
     "execution_count": 7,
     "metadata": {},
     "output_type": "execute_result"
    }
   ],
   "source": [
    "# Age Demographics\n",
    "# Create new dataframe with reduced columns\n",
    "reduced_age_df = purchase_data.loc[:, [\"SN\", \"Age\"]]\n",
    "reduced_age_df\n",
    "\n",
    "# Drop duplicate \"SN\" rows\n",
    "reduced_age_df = reduced_age_df.drop_duplicates(subset=['SN'])\n",
    "reduced_age_df\n"
   ]
  },
  {
   "cell_type": "code",
   "execution_count": 8,
   "metadata": {},
   "outputs": [],
   "source": [
    "# Create bins to place the age values\n",
    "bins = [0, 9, 14, 19, 24, 29, 34, 39, 99]\n",
    "\n",
    "# Create labels for these bins\n",
    "group_labels = [\"<10\", \"10-14\", \"15-19\", \"20-24\", \"25-29\", \"30-34\", \"35-39\", \"40+\"]\n",
    "\n",
    "# Slice the age values and place into appropriate bins\n"
   ]
  },
  {
   "cell_type": "code",
   "execution_count": 9,
   "metadata": {},
   "outputs": [],
   "source": [
    "# Place the group into a new column inside the dataframe\n",
    "reduced_age_df[\"\"]=pd.cut(reduced_age_df[\"Age\"], bins, labels=group_labels)"
   ]
  },
  {
   "cell_type": "code",
   "execution_count": 10,
   "metadata": {},
   "outputs": [],
   "source": [
    "# Create a GroupBy object based on \"\"\n",
    "age_group = reduced_age_df.groupby(\"\")"
   ]
  },
  {
   "cell_type": "code",
   "execution_count": 16,
   "metadata": {},
   "outputs": [
    {
     "data": {
      "text/plain": [
       "\n",
       "<10       17\n",
       "10-14     22\n",
       "15-19    107\n",
       "20-24    258\n",
       "25-29     77\n",
       "30-34     52\n",
       "35-39     31\n",
       "40+       12\n",
       "Name: Age, dtype: int64"
      ]
     },
     "execution_count": 16,
     "metadata": {},
     "output_type": "execute_result"
    }
   ],
   "source": [
    "# Count the number of players in each bin\n",
    "player_amount = age_group[\"Age\"].count()\n",
    "player_amount"
   ]
  },
  {
   "cell_type": "code",
   "execution_count": 17,
   "metadata": {},
   "outputs": [
    {
     "data": {
      "text/plain": [
       "\n",
       "<10       2.951389\n",
       "10-14     3.819444\n",
       "15-19    18.576389\n",
       "20-24    44.791667\n",
       "25-29    13.368056\n",
       "30-34     9.027778\n",
       "35-39     5.381944\n",
       "40+       2.083333\n",
       "Name: Age, dtype: float64"
      ]
     },
     "execution_count": 17,
     "metadata": {},
     "output_type": "execute_result"
    }
   ],
   "source": [
    "# Calculate the percentage of players in each group\n",
    "percent = player_amount / count * 100\n",
    "percent"
   ]
  },
  {
   "cell_type": "code",
   "execution_count": 18,
   "metadata": {},
   "outputs": [
    {
     "data": {
      "text/html": [
       "<div>\n",
       "<style scoped>\n",
       "    .dataframe tbody tr th:only-of-type {\n",
       "        vertical-align: middle;\n",
       "    }\n",
       "\n",
       "    .dataframe tbody tr th {\n",
       "        vertical-align: top;\n",
       "    }\n",
       "\n",
       "    .dataframe thead th {\n",
       "        text-align: right;\n",
       "    }\n",
       "</style>\n",
       "<table border=\"1\" class=\"dataframe\">\n",
       "  <thead>\n",
       "    <tr style=\"text-align: right;\">\n",
       "      <th></th>\n",
       "      <th>Total Count</th>\n",
       "      <th>Percentage of Players</th>\n",
       "    </tr>\n",
       "    <tr>\n",
       "      <th></th>\n",
       "      <th></th>\n",
       "      <th></th>\n",
       "    </tr>\n",
       "  </thead>\n",
       "  <tbody>\n",
       "    <tr>\n",
       "      <th>&lt;10</th>\n",
       "      <td>17</td>\n",
       "      <td>2.951389</td>\n",
       "    </tr>\n",
       "    <tr>\n",
       "      <th>10-14</th>\n",
       "      <td>22</td>\n",
       "      <td>3.819444</td>\n",
       "    </tr>\n",
       "    <tr>\n",
       "      <th>15-19</th>\n",
       "      <td>107</td>\n",
       "      <td>18.576389</td>\n",
       "    </tr>\n",
       "    <tr>\n",
       "      <th>20-24</th>\n",
       "      <td>258</td>\n",
       "      <td>44.791667</td>\n",
       "    </tr>\n",
       "    <tr>\n",
       "      <th>25-29</th>\n",
       "      <td>77</td>\n",
       "      <td>13.368056</td>\n",
       "    </tr>\n",
       "    <tr>\n",
       "      <th>30-34</th>\n",
       "      <td>52</td>\n",
       "      <td>9.027778</td>\n",
       "    </tr>\n",
       "    <tr>\n",
       "      <th>35-39</th>\n",
       "      <td>31</td>\n",
       "      <td>5.381944</td>\n",
       "    </tr>\n",
       "    <tr>\n",
       "      <th>40+</th>\n",
       "      <td>12</td>\n",
       "      <td>2.083333</td>\n",
       "    </tr>\n",
       "  </tbody>\n",
       "</table>\n",
       "</div>"
      ],
      "text/plain": [
       "       Total Count  Percentage of Players\n",
       "                                         \n",
       "<10             17               2.951389\n",
       "10-14           22               3.819444\n",
       "15-19          107              18.576389\n",
       "20-24          258              44.791667\n",
       "25-29           77              13.368056\n",
       "30-34           52               9.027778\n",
       "35-39           31               5.381944\n",
       "40+             12               2.083333"
      ]
     },
     "execution_count": 18,
     "metadata": {},
     "output_type": "execute_result"
    }
   ],
   "source": [
    "# Create the summary table\n",
    "age_summary = pd.DataFrame({\"Total Count\" : player_amount, \"Percentage of Players\": percent})\n",
    "age_summary"
   ]
  },
  {
   "cell_type": "code",
   "execution_count": null,
   "metadata": {},
   "outputs": [],
   "source": [
    "# Format and display the summary table\n",
    "age_summary[\"Percentage of Players\"] = age_summary[\"Average Purchase Price\"].astype(float).map(\"${:.2f}\".format)\n",
    "summary_df.style.set_properties(**{'text-align': 'left'})"
   ]
  }
 ],
 "metadata": {
  "celltoolbar": "Raw Cell Format",
  "kernelspec": {
   "display_name": "Python 3",
   "language": "python",
   "name": "python3"
  },
  "language_info": {
   "codemirror_mode": {
    "name": "ipython",
    "version": 3
   },
   "file_extension": ".py",
   "mimetype": "text/x-python",
   "name": "python",
   "nbconvert_exporter": "python",
   "pygments_lexer": "ipython3",
   "version": "3.6.10"
  }
 },
 "nbformat": 4,
 "nbformat_minor": 4
}
