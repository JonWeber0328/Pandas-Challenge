{
 "cells": [
  {
   "cell_type": "code",
   "execution_count": 1,
   "metadata": {},
   "outputs": [],
   "source": [
    "# Dependencies and Setup\n",
    "import pandas as pd\n",
    "\n",
    "# File to Load\n",
    "file_to_load = \"Resources/purchase_data.csv\"\n",
    "\n",
    "# Read Purchasing File and store into Pandas data frame\n",
    "purchase_data = pd.read_csv(file_to_load)\n",
    "\n",
    "#print(purchase_data)"
   ]
  },
  {
   "cell_type": "code",
   "execution_count": 2,
   "metadata": {},
   "outputs": [
    {
     "data": {
      "text/plain": [
       "Lisosia93      5\n",
       "Iral74         4\n",
       "Idastidru52    4\n",
       "Silaera56      3\n",
       "Tyidaim51      3\n",
       "              ..\n",
       "Salilis27      1\n",
       "Ilunyon70      1\n",
       "Ilassast39     1\n",
       "Filurarn35     1\n",
       "Qilalista41    1\n",
       "Name: SN, Length: 576, dtype: int64"
      ]
     },
     "execution_count": 2,
     "metadata": {},
     "output_type": "execute_result"
    }
   ],
   "source": [
    "# Calculate the total number of unique players in \"SN\" column\n",
    "count_df = purchase_data[\"SN\"].value_counts()\n",
    "count_df"
   ]
  },
  {
   "cell_type": "code",
   "execution_count": 3,
   "metadata": {},
   "outputs": [
    {
     "data": {
      "text/html": [
       "<style  type=\"text/css\" >\n",
       "    #T_e8821326_6017_11eb_a6c8_34c93da00cacrow0_col0 {\n",
       "            text-align:  left;\n",
       "        }</style><table id=\"T_e8821326_6017_11eb_a6c8_34c93da00cac\" ><thead>    <tr>        <th class=\"blank level0\" ></th>        <th class=\"col_heading level0 col0\" >Total Players</th>    </tr></thead><tbody>\n",
       "                <tr>\n",
       "                        <th id=\"T_e8821326_6017_11eb_a6c8_34c93da00caclevel0_row0\" class=\"row_heading level0 row0\" >0</th>\n",
       "                        <td id=\"T_e8821326_6017_11eb_a6c8_34c93da00cacrow0_col0\" class=\"data row0 col0\" >576</td>\n",
       "            </tr>\n",
       "    </tbody></table>"
      ],
      "text/plain": [
       "<pandas.io.formats.style.Styler at 0x262a6cf5cc0>"
      ]
     },
     "execution_count": 3,
     "metadata": {},
     "output_type": "execute_result"
    }
   ],
   "source": [
    "# Display the total number of players\n",
    "total_players_df = pd.DataFrame({\"Total Players\": [576]})\n",
    "total_players_df.style.set_properties(**{'text-align': 'left'})"
   ]
  },
  {
   "cell_type": "code",
   "execution_count": null,
   "metadata": {},
   "outputs": [],
   "source": []
  }
 ],
 "metadata": {
  "celltoolbar": "Raw Cell Format",
  "kernelspec": {
   "display_name": "Python 3",
   "language": "python",
   "name": "python3"
  },
  "language_info": {
   "codemirror_mode": {
    "name": "ipython",
    "version": 3
   },
   "file_extension": ".py",
   "mimetype": "text/x-python",
   "name": "python",
   "nbconvert_exporter": "python",
   "pygments_lexer": "ipython3",
   "version": "3.6.10"
  }
 },
 "nbformat": 4,
 "nbformat_minor": 4
}
