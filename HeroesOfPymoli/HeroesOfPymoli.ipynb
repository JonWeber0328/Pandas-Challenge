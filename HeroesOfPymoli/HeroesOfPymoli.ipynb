{
 "cells": [
  {
   "cell_type": "code",
   "execution_count": 1,
   "metadata": {},
   "outputs": [],
   "source": [
    "# Dependencies and Setup\n",
    "import pandas as pd\n",
    "\n",
    "# File to Load\n",
    "file_to_load = \"Resources/purchase_data.csv\"\n",
    "\n",
    "# Read Purchasing File and store into Pandas data frame\n",
    "purchase_data = pd.read_csv(file_to_load)\n",
    "\n",
    "#print(purchase_data)"
   ]
  },
  {
   "cell_type": "code",
   "execution_count": 2,
   "metadata": {},
   "outputs": [
    {
     "data": {
      "text/html": [
       "<style  type=\"text/css\" >\n",
       "    #T_12a7353e_61c5_11eb_9f7a_34c93da00cacrow0_col0 {\n",
       "            text-align:  left;\n",
       "        }</style><table id=\"T_12a7353e_61c5_11eb_9f7a_34c93da00cac\" ><thead>    <tr>        <th class=\"blank level0\" ></th>        <th class=\"col_heading level0 col0\" >Total Players</th>    </tr></thead><tbody>\n",
       "                <tr>\n",
       "                        <th id=\"T_12a7353e_61c5_11eb_9f7a_34c93da00caclevel0_row0\" class=\"row_heading level0 row0\" >0</th>\n",
       "                        <td id=\"T_12a7353e_61c5_11eb_9f7a_34c93da00cacrow0_col0\" class=\"data row0 col0\" >576</td>\n",
       "            </tr>\n",
       "    </tbody></table>"
      ],
      "text/plain": [
       "<pandas.io.formats.style.Styler at 0x1c6c9d04e80>"
      ]
     },
     "execution_count": 2,
     "metadata": {},
     "output_type": "execute_result"
    }
   ],
   "source": [
    "# Player Count\n",
    "# Calculate the total number of unique players in \"SN\" column\n",
    "player_df = purchase_data[\"SN\"].value_counts()\n",
    "player_df.count()\n",
    "count = player_df.count()\n",
    "\n",
    "# Display the total number of players\n",
    "total_players_df = pd.DataFrame({\"Total Players\": [count]})\n",
    "total_players_df.style.set_properties(**{'text-align': 'left'})"
   ]
  },
  {
   "cell_type": "code",
   "execution_count": 3,
   "metadata": {},
   "outputs": [
    {
     "data": {
      "text/html": [
       "<style  type=\"text/css\" >\n",
       "    #T_12aa41d2_61c5_11eb_a932_34c93da00cacrow0_col0 {\n",
       "            text-align:  left;\n",
       "        }    #T_12aa41d2_61c5_11eb_a932_34c93da00cacrow0_col1 {\n",
       "            text-align:  left;\n",
       "        }    #T_12aa41d2_61c5_11eb_a932_34c93da00cacrow0_col2 {\n",
       "            text-align:  left;\n",
       "        }    #T_12aa41d2_61c5_11eb_a932_34c93da00cacrow0_col3 {\n",
       "            text-align:  left;\n",
       "        }</style><table id=\"T_12aa41d2_61c5_11eb_a932_34c93da00cac\" ><thead>    <tr>        <th class=\"blank level0\" ></th>        <th class=\"col_heading level0 col0\" >Number of Unique Items</th>        <th class=\"col_heading level0 col1\" >Average Price</th>        <th class=\"col_heading level0 col2\" >Number of Purchases</th>        <th class=\"col_heading level0 col3\" >Total Revenue</th>    </tr></thead><tbody>\n",
       "                <tr>\n",
       "                        <th id=\"T_12aa41d2_61c5_11eb_a932_34c93da00caclevel0_row0\" class=\"row_heading level0 row0\" >0</th>\n",
       "                        <td id=\"T_12aa41d2_61c5_11eb_a932_34c93da00cacrow0_col0\" class=\"data row0 col0\" >179</td>\n",
       "                        <td id=\"T_12aa41d2_61c5_11eb_a932_34c93da00cacrow0_col1\" class=\"data row0 col1\" >$3.05</td>\n",
       "                        <td id=\"T_12aa41d2_61c5_11eb_a932_34c93da00cacrow0_col2\" class=\"data row0 col2\" >780</td>\n",
       "                        <td id=\"T_12aa41d2_61c5_11eb_a932_34c93da00cacrow0_col3\" class=\"data row0 col3\" >$2379.77</td>\n",
       "            </tr>\n",
       "    </tbody></table>"
      ],
      "text/plain": [
       "<pandas.io.formats.style.Styler at 0x1c6cadb08d0>"
      ]
     },
     "execution_count": 3,
     "metadata": {},
     "output_type": "execute_result"
    }
   ],
   "source": [
    "# Purchasing Analysis (Total)\n",
    "# Find the number of unique items\n",
    "item_df = purchase_data[\"Item ID\"].value_counts()\n",
    "item_df.count()\n",
    "item = item_df.count()\n",
    "\n",
    "# Find the average price\n",
    "average = purchase_data[\"Price\"].mean()\n",
    "average\n",
    "\n",
    "# Find the number of purchases\n",
    "purchases = purchase_data[\"Purchase ID\"].count()\n",
    "purchases\n",
    "\n",
    "# Find the total revenue\n",
    "revenue = purchase_data[\"Price\"].sum()\n",
    "revenue\n",
    "\n",
    "# Create the summary table\n",
    "summary_df = pd.DataFrame({\"Number of Unique Items\": [item], \"Average Price\": [average], \"Number of Purchases\": [purchases],\n",
    "                           \"Total Revenue\": [revenue]})\n",
    "\n",
    "# Format and display the summary table\n",
    "summary_df[\"Average Price\"] = summary_df[\"Average Price\"].astype(float).map(\"${:.2f}\".format)\n",
    "summary_df[\"Total Revenue\"] = summary_df[\"Total Revenue\"].astype(float).map(\"${:.2f}\".format)\n",
    "summary_df.style.set_properties(**{'text-align': 'left'})"
   ]
  },
  {
   "cell_type": "code",
   "execution_count": 4,
   "metadata": {},
   "outputs": [
    {
     "data": {
      "text/html": [
       "<style  type=\"text/css\" >\n",
       "    #T_12b2067e_61c5_11eb_bd81_34c93da00cacrow0_col0 {\n",
       "            text-align:  left;\n",
       "        }    #T_12b2067e_61c5_11eb_bd81_34c93da00cacrow0_col1 {\n",
       "            text-align:  left;\n",
       "        }    #T_12b2067e_61c5_11eb_bd81_34c93da00cacrow1_col0 {\n",
       "            text-align:  left;\n",
       "        }    #T_12b2067e_61c5_11eb_bd81_34c93da00cacrow1_col1 {\n",
       "            text-align:  left;\n",
       "        }    #T_12b2067e_61c5_11eb_bd81_34c93da00cacrow2_col0 {\n",
       "            text-align:  left;\n",
       "        }    #T_12b2067e_61c5_11eb_bd81_34c93da00cacrow2_col1 {\n",
       "            text-align:  left;\n",
       "        }</style><table id=\"T_12b2067e_61c5_11eb_bd81_34c93da00cac\" ><thead>    <tr>        <th class=\"blank level0\" ></th>        <th class=\"col_heading level0 col0\" >Total Count</th>        <th class=\"col_heading level0 col1\" >Percentage of Players</th>    </tr></thead><tbody>\n",
       "                <tr>\n",
       "                        <th id=\"T_12b2067e_61c5_11eb_bd81_34c93da00caclevel0_row0\" class=\"row_heading level0 row0\" >Male</th>\n",
       "                        <td id=\"T_12b2067e_61c5_11eb_bd81_34c93da00cacrow0_col0\" class=\"data row0 col0\" >484</td>\n",
       "                        <td id=\"T_12b2067e_61c5_11eb_bd81_34c93da00cacrow0_col1\" class=\"data row0 col1\" >84.03%</td>\n",
       "            </tr>\n",
       "            <tr>\n",
       "                        <th id=\"T_12b2067e_61c5_11eb_bd81_34c93da00caclevel0_row1\" class=\"row_heading level0 row1\" >Female</th>\n",
       "                        <td id=\"T_12b2067e_61c5_11eb_bd81_34c93da00cacrow1_col0\" class=\"data row1 col0\" >81</td>\n",
       "                        <td id=\"T_12b2067e_61c5_11eb_bd81_34c93da00cacrow1_col1\" class=\"data row1 col1\" >14.06%</td>\n",
       "            </tr>\n",
       "            <tr>\n",
       "                        <th id=\"T_12b2067e_61c5_11eb_bd81_34c93da00caclevel0_row2\" class=\"row_heading level0 row2\" >Other / Non-Disclosed</th>\n",
       "                        <td id=\"T_12b2067e_61c5_11eb_bd81_34c93da00cacrow2_col0\" class=\"data row2 col0\" >11</td>\n",
       "                        <td id=\"T_12b2067e_61c5_11eb_bd81_34c93da00cacrow2_col1\" class=\"data row2 col1\" >1.91%</td>\n",
       "            </tr>\n",
       "    </tbody></table>"
      ],
      "text/plain": [
       "<pandas.io.formats.style.Styler at 0x1c6c7c10ba8>"
      ]
     },
     "execution_count": 4,
     "metadata": {},
     "output_type": "execute_result"
    }
   ],
   "source": [
    "# Gender Demographics\n",
    "# Create new dataframe with reduced columns\n",
    "reduced_purchase_df = purchase_data.loc[:, [\"SN\", \"Gender\"]]\n",
    "reduced_purchase_df\n",
    "\n",
    "# Drop duplicate \"SN\" rows\n",
    "reduced_purchase_df = reduced_purchase_df.drop_duplicates(subset=['SN'])\n",
    "reduced_purchase_df\n",
    "\n",
    "# Count number of players by gender\n",
    "gender_total = reduced_purchase_df[\"Gender\"].value_counts()\n",
    "gender_total\n",
    "\n",
    "# Calculate the percentage for each gender\n",
    "gender_percent = gender_total / count * 100\n",
    "gender_percent\n",
    "\n",
    "# Create the summary table\n",
    "gender_summary = pd.DataFrame({\"Total Count\" : gender_total, \"Percentage of Players\": gender_percent})\n",
    "gender_summary\n",
    "\n",
    "# Format and display the summary table\n",
    "gender_summary[\"Percentage of Players\"] = gender_summary[\"Percentage of Players\"].astype(float).map(\"{0:.2f}%\".format)\n",
    "gender_summary.style.set_properties(**{'text-align': 'left'})"
   ]
  },
  {
   "cell_type": "code",
   "execution_count": 5,
   "metadata": {},
   "outputs": [
    {
     "data": {
      "text/html": [
       "<style  type=\"text/css\" >\n",
       "    #T_12b8dc88_61c5_11eb_94b9_34c93da00cacrow0_col0 {\n",
       "            text-align:  left;\n",
       "        }    #T_12b8dc88_61c5_11eb_94b9_34c93da00cacrow0_col1 {\n",
       "            text-align:  left;\n",
       "        }    #T_12b8dc88_61c5_11eb_94b9_34c93da00cacrow0_col2 {\n",
       "            text-align:  left;\n",
       "        }    #T_12b8dc88_61c5_11eb_94b9_34c93da00cacrow0_col3 {\n",
       "            text-align:  left;\n",
       "        }    #T_12b8dc88_61c5_11eb_94b9_34c93da00cacrow1_col0 {\n",
       "            text-align:  left;\n",
       "        }    #T_12b8dc88_61c5_11eb_94b9_34c93da00cacrow1_col1 {\n",
       "            text-align:  left;\n",
       "        }    #T_12b8dc88_61c5_11eb_94b9_34c93da00cacrow1_col2 {\n",
       "            text-align:  left;\n",
       "        }    #T_12b8dc88_61c5_11eb_94b9_34c93da00cacrow1_col3 {\n",
       "            text-align:  left;\n",
       "        }    #T_12b8dc88_61c5_11eb_94b9_34c93da00cacrow2_col0 {\n",
       "            text-align:  left;\n",
       "        }    #T_12b8dc88_61c5_11eb_94b9_34c93da00cacrow2_col1 {\n",
       "            text-align:  left;\n",
       "        }    #T_12b8dc88_61c5_11eb_94b9_34c93da00cacrow2_col2 {\n",
       "            text-align:  left;\n",
       "        }    #T_12b8dc88_61c5_11eb_94b9_34c93da00cacrow2_col3 {\n",
       "            text-align:  left;\n",
       "        }</style><table id=\"T_12b8dc88_61c5_11eb_94b9_34c93da00cac\" ><thead>    <tr>        <th class=\"blank level0\" ></th>        <th class=\"col_heading level0 col0\" >Purchase Count</th>        <th class=\"col_heading level0 col1\" >Average Purchase Price</th>        <th class=\"col_heading level0 col2\" >Total Purchase Value</th>        <th class=\"col_heading level0 col3\" >Avg Total Purchase per Person</th>    </tr></thead><tbody>\n",
       "                <tr>\n",
       "                        <th id=\"T_12b8dc88_61c5_11eb_94b9_34c93da00caclevel0_row0\" class=\"row_heading level0 row0\" >Female</th>\n",
       "                        <td id=\"T_12b8dc88_61c5_11eb_94b9_34c93da00cacrow0_col0\" class=\"data row0 col0\" >113</td>\n",
       "                        <td id=\"T_12b8dc88_61c5_11eb_94b9_34c93da00cacrow0_col1\" class=\"data row0 col1\" >$3.20</td>\n",
       "                        <td id=\"T_12b8dc88_61c5_11eb_94b9_34c93da00cacrow0_col2\" class=\"data row0 col2\" >$361.94</td>\n",
       "                        <td id=\"T_12b8dc88_61c5_11eb_94b9_34c93da00cacrow0_col3\" class=\"data row0 col3\" >$4.47</td>\n",
       "            </tr>\n",
       "            <tr>\n",
       "                        <th id=\"T_12b8dc88_61c5_11eb_94b9_34c93da00caclevel0_row1\" class=\"row_heading level0 row1\" >Male</th>\n",
       "                        <td id=\"T_12b8dc88_61c5_11eb_94b9_34c93da00cacrow1_col0\" class=\"data row1 col0\" >652</td>\n",
       "                        <td id=\"T_12b8dc88_61c5_11eb_94b9_34c93da00cacrow1_col1\" class=\"data row1 col1\" >$3.02</td>\n",
       "                        <td id=\"T_12b8dc88_61c5_11eb_94b9_34c93da00cacrow1_col2\" class=\"data row1 col2\" >$1967.64</td>\n",
       "                        <td id=\"T_12b8dc88_61c5_11eb_94b9_34c93da00cacrow1_col3\" class=\"data row1 col3\" >$4.07</td>\n",
       "            </tr>\n",
       "            <tr>\n",
       "                        <th id=\"T_12b8dc88_61c5_11eb_94b9_34c93da00caclevel0_row2\" class=\"row_heading level0 row2\" >Other / Non-Disclosed</th>\n",
       "                        <td id=\"T_12b8dc88_61c5_11eb_94b9_34c93da00cacrow2_col0\" class=\"data row2 col0\" >15</td>\n",
       "                        <td id=\"T_12b8dc88_61c5_11eb_94b9_34c93da00cacrow2_col1\" class=\"data row2 col1\" >$3.35</td>\n",
       "                        <td id=\"T_12b8dc88_61c5_11eb_94b9_34c93da00cacrow2_col2\" class=\"data row2 col2\" >$50.19</td>\n",
       "                        <td id=\"T_12b8dc88_61c5_11eb_94b9_34c93da00cacrow2_col3\" class=\"data row2 col3\" >$4.56</td>\n",
       "            </tr>\n",
       "    </tbody></table>"
      ],
      "text/plain": [
       "<pandas.io.formats.style.Styler at 0x1c6cae1bbe0>"
      ]
     },
     "execution_count": 5,
     "metadata": {},
     "output_type": "execute_result"
    }
   ],
   "source": [
    "# Purchasing Analysis (Gender)\n",
    "# Purchase count\n",
    "purchase_df = purchase_data.loc[:, [\"Gender\", \"Price\"]]\n",
    "purchase_df\n",
    "\n",
    "gen_pur_count = purchase_df[\"Gender\"].value_counts()\n",
    "gen_pur_count\n",
    "\n",
    "# Average purchase price\n",
    "gen_amt_sum = purchase_df.groupby([\"Gender\"])\n",
    "gen_amt_sum = gen_amt_sum[\"Price\"].sum()\n",
    "gen_amt_sum\n",
    "\n",
    "avg_pur = gen_amt_sum / gen_pur_count\n",
    "avg_pur\n",
    "\n",
    "# Total purchase value\n",
    "gen_amt_sum\n",
    "\n",
    "# Average total purchase per person\n",
    "avg_person_pur = gen_amt_sum / gender_total\n",
    "avg_person_pur\n",
    "\n",
    "# Create the summary table\n",
    "purchasing_summary = pd.DataFrame({\"Purchase Count\" : gen_pur_count, \"Average Purchase Price\": avg_pur, \n",
    "                                   \"Total Purchase Value\": gen_amt_sum, \"Avg Total Purchase per Person\": avg_person_pur})\n",
    "purchasing_summary\n",
    "\n",
    "# Format and display the summary table\n",
    "purchasing_summary[\"Average Purchase Price\"] = purchasing_summary[\"Average Purchase Price\"].astype(float).map(\"${:.2f}\".format)\n",
    "purchasing_summary[\"Total Purchase Value\"] = purchasing_summary[\"Total Purchase Value\"].astype(float).map(\"${:.2f}\".format)\n",
    "purchasing_summary[\"Avg Total Purchase per Person\"] = purchasing_summary[\"Avg Total Purchase per Person\"].astype(float).map(\"${:.2f}\".format)\n",
    "purchasing_summary.style.set_properties(**{'text-align': 'left'})"
   ]
  },
  {
   "cell_type": "code",
   "execution_count": null,
   "metadata": {},
   "outputs": [],
   "source": []
  }
 ],
 "metadata": {
  "celltoolbar": "Raw Cell Format",
  "kernelspec": {
   "display_name": "Python 3",
   "language": "python",
   "name": "python3"
  },
  "language_info": {
   "codemirror_mode": {
    "name": "ipython",
    "version": 3
   },
   "file_extension": ".py",
   "mimetype": "text/x-python",
   "name": "python",
   "nbconvert_exporter": "python",
   "pygments_lexer": "ipython3",
   "version": "3.6.10"
  }
 },
 "nbformat": 4,
 "nbformat_minor": 4
}
